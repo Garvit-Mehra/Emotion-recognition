{
 "cells": [
  {
   "cell_type": "markdown",
   "id": "a9e38453",
   "metadata": {},
   "source": [
    "# Emotion Recognition from Speech using MFCCs and CNN\n",
    "\n",
    "This script loads pre-extracted MFCC features and their corresponding labels, builds and trains a Convolutional Neural Network (CNN) for emotion classification, and evaluates its performance."
   ]
  },
  {
   "cell_type": "code",
   "execution_count": null,
   "id": "57b37be4",
   "metadata": {},
   "outputs": [],
   "source": [
    "import numpy as np\n",
    "import tensorflow as tf\n",
    "import matplotlib.pyplot as plt\n",
    "import seaborn as sns\n",
    "\n",
    "from tensorflow.keras.models import Sequential\n",
    "from tensorflow.keras.layers import Conv2D, MaxPooling2D, Flatten, Dense, Dropout\n",
    "from tensorflow.keras.utils import to_categorical\n",
    "\n",
    "from sklearn.model_selection import train_test_split\n",
    "from sklearn.preprocessing import LabelEncoder\n",
    "from sklearn.metrics import confusion_matrix, classification_report\n"
   ]
  },
  {
   "cell_type": "markdown",
   "id": "552f621b",
   "metadata": {},
   "source": [
    "## Load and Preprocess Data\n",
    "This function loads Mel-Frequency Cepstral Coefficients (MFCCs), a compact representation of the short-term power spectrum of sound. The features are normalized to zero mean and unit variance:\n",
    "\n",
    "$$\n",
    "X_{norm} = \\frac{X - \\mu}{\\sigma}\n",
    "$$\n",
    "\n",
    "The labels are encoded using `LabelEncoder` and one-hot encoded to suit the categorical cross-entropy loss used in training."
   ]
  },
  {
   "cell_type": "code",
   "execution_count": null,
   "id": "2f3f9caa",
   "metadata": {},
   "outputs": [],
   "source": [
    "def load_data(x_path=\"X_mfcc.npy\", y_path=\"y_labels.npy\"):\n",
    "    \"\"\"Load and preprocess MFCC features and labels.\"\"\"\n",
    "    X = np.load(x_path)\n",
    "    y = np.load(y_path)\n",
    "\n",
    "    # Normalize X\n",
    "    X = (X - np.mean(X, axis=0)) / np.std(X, axis=0)\n",
    "    X = X[..., np.newaxis]  # Shape: (samples, 40, 174, 1)\n",
    "\n",
    "    # Encode labels\n",
    "    le = LabelEncoder()\n",
    "    y_encoded = le.fit_transform(y)\n",
    "    y_cat = to_categorical(y_encoded)\n",
    "\n",
    "    return X, y_cat, le"
   ]
  },
  {
   "cell_type": "markdown",
   "id": "4beda42b",
   "metadata": {},
   "source": [
    "## Train-Test Split\n",
    "Splits the dataset into training and testing sets while preserving class distribution."
   ]
  },
  {
   "cell_type": "code",
   "execution_count": null,
   "id": "a7497ec0",
   "metadata": {},
   "outputs": [],
   "source": [
    "def split_data(X, y_cat, test_size=0.2, random_state=42):\n",
    "    \"\"\"Split data into training and test sets.\"\"\"\n",
    "    return train_test_split(X, y_cat, test_size=test_size, random_state=random_state, stratify=y_cat)"
   ]
  },
  {
   "cell_type": "markdown",
   "id": "e626a574",
   "metadata": {},
   "source": [
    "## Build CNN Model\n",
    "Builds a deep learning model using a stack of convolutional layers followed by pooling, dropout (to reduce overfitting), and fully connected layers. The network learns local temporal-spectral features from the MFCCs, which capture emotional cues in speech.\n",
    "Final activation:\n",
    "\n",
    "$$\n",
    "\\hat{y} = \\text{softmax}(Wx + b)\n",
    "$$\n",
    "\n",
    "used for multi-class emotion classification across 8 categories."
   ]
  },
  {
   "cell_type": "code",
   "execution_count": null,
   "id": "aab155f9",
   "metadata": {},
   "outputs": [],
   "source": [
    "def build_model(input_shape=(40, 174, 1), num_classes=8):\n",
    "    \"\"\"Build a CNN model for emotion recognition.\"\"\"\n",
    "    model = Sequential([\n",
    "        Conv2D(32, (3, 3), activation='relu', input_shape=input_shape),\n",
    "        MaxPooling2D((2, 2)),\n",
    "        Dropout(0.3),\n",
    "\n",
    "        Conv2D(64, (3, 3), activation='relu'),\n",
    "        MaxPooling2D((2, 2)),\n",
    "        Dropout(0.3),\n",
    "\n",
    "        Flatten(),\n",
    "        Dense(128, activation='relu'),\n",
    "        Dropout(0.3),\n",
    "        Dense(num_classes, activation='softmax')\n",
    "    ])\n",
    "    \n",
    "    model.compile(optimizer='adam', loss='categorical_crossentropy', metrics=['accuracy'])\n",
    "    return model"
   ]
  },
  {
   "cell_type": "markdown",
   "id": "91a43b55",
   "metadata": {},
   "source": [
    "## Plot Training History\n",
    "Visualizes model accuracy and loss across training epochs for both training and validation sets."
   ]
  },
  {
   "cell_type": "code",
   "execution_count": null,
   "id": "f5d44097",
   "metadata": {},
   "outputs": [],
   "source": [
    "def plot_training_history(history):\n",
    "    \"\"\"Plot training and validation accuracy and loss.\"\"\"\n",
    "    plt.figure(figsize=(10, 4))\n",
    "    plt.subplot(1, 2, 1)\n",
    "    plt.plot(history.history['accuracy'], label='Train Acc')\n",
    "    plt.plot(history.history['val_accuracy'], label='Val Acc')\n",
    "    plt.title(\"Model Accuracy\")\n",
    "    plt.xlabel(\"Epoch\")\n",
    "    plt.ylabel(\"Accuracy\")\n",
    "    plt.legend()\n",
    "\n",
    "    plt.subplot(1, 2, 2)\n",
    "    plt.plot(history.history['loss'], label='Train Loss')\n",
    "    plt.plot(history.history['val_loss'], label='Val Loss')\n",
    "    plt.title(\"Model Loss\")\n",
    "    plt.xlabel(\"Epoch\")\n",
    "    plt.ylabel(\"Loss\")\n",
    "    plt.legend()\n",
    "\n",
    "    plt.tight_layout()\n",
    "    plt.show()"
   ]
  },
  {
   "cell_type": "markdown",
   "id": "5021104b",
   "metadata": {},
   "source": [
    "## Quantitative Evaluation\n",
    "Generates predictions on the test set and evaluates them using:\n",
    "- **Confusion Matrix**: to visualize class-wise prediction accuracy.\n",
    "- **Classification Report**: to compute precision, recall, and F1-score.\n",
    "\n",
    "Mathematically:\n",
    "$$\n",
    "\n",
    "F_1 = 2\\cdot\\frac{\\text{precision}\\cdot\\text{recall}}{\\text{precision}+\\text{recall}}\n",
    "\n",
    "$$\n",
    "Provides insight into class-specific performance."
   ]
  },
  {
   "cell_type": "code",
   "execution_count": null,
   "id": "b4932935",
   "metadata": {},
   "outputs": [],
   "source": [
    "def evaluate_model(model, X_test, y_test, label_encoder):\n",
    "    \"\"\"Evaluate model and display confusion matrix and classification report.\"\"\"\n",
    "    y_pred = model.predict(X_test)\n",
    "    y_pred_classes = np.argmax(y_pred, axis=1)\n",
    "    y_true_classes = np.argmax(y_test, axis=1)\n",
    "\n",
    "    labels = label_encoder.classes_\n",
    "    cm = confusion_matrix(y_true_classes, y_pred_classes)\n",
    "\n",
    "    plt.figure(figsize=(10, 8))\n",
    "    sns.heatmap(cm, annot=True, fmt=\"d\", cmap=\"Blues\", xticklabels=labels, yticklabels=labels)\n",
    "    plt.xlabel(\"Predicted\")\n",
    "    plt.ylabel(\"True\")\n",
    "    plt.title(\"Confusion Matrix\")\n",
    "    plt.show()\n",
    "\n",
    "    print(\"Classification Report:\\n\")\n",
    "    print(classification_report(y_true_classes, y_pred_classes, target_names=labels))"
   ]
  },
  {
   "cell_type": "markdown",
   "id": "6bfeb573",
   "metadata": {},
   "source": [
    "## Build Full Pipeline\n",
    "Orchestrates the full training pipeline: data loading → preprocessing → model training → evaluation → model persistence. Acts as the script's entry point."
   ]
  },
  {
   "cell_type": "code",
   "execution_count": null,
   "id": "e9836a12",
   "metadata": {},
   "outputs": [],
   "source": [
    "def main():\n",
    "    X, y_cat, le = load_data()\n",
    "    X_train, X_test, y_train, y_test = split_data(X, y_cat)\n",
    "\n",
    "    model = build_model()\n",
    "    model.summary()\n",
    "\n",
    "    history = model.fit(X_train, y_train, epochs=30, batch_size=32, validation_data=(X_test, y_test))\n",
    "\n",
    "    test_loss, test_acc = model.evaluate(X_test, y_test)\n",
    "    print(f\"\\n🎯 Test Accuracy: {test_acc:.2%}\")\n",
    "\n",
    "    plot_training_history(history)\n",
    "    evaluate_model(model, X_test, y_test, le)\n",
    "\n",
    "    model.save(\"emotion_cnn_model.keras\")"
   ]
  },
  {
   "cell_type": "markdown",
   "id": "ef2b10fb",
   "metadata": {},
   "source": [
    "### Run the Pipeline"
   ]
  },
  {
   "cell_type": "code",
   "execution_count": null,
   "id": "5ea3f24c",
   "metadata": {},
   "outputs": [],
   "source": [
    "if __name__ == \"__main__\":\n",
    "    main()"
   ]
  },
  {
   "cell_type": "code",
   "execution_count": null,
   "id": "436101e9",
   "metadata": {},
   "outputs": [],
   "source": []
  }
 ],
 "metadata": {
  "kernelspec": {
   "display_name": ".venv",
   "language": "python",
   "name": "python3"
  },
  "language_info": {
   "codemirror_mode": {
    "name": "ipython",
    "version": 3
   },
   "file_extension": ".py",
   "mimetype": "text/x-python",
   "name": "python",
   "nbconvert_exporter": "python",
   "pygments_lexer": "ipython3",
   "version": "3.10.11"
  }
 },
 "nbformat": 4,
 "nbformat_minor": 5
}
