{
 "cells": [
  {
   "cell_type": "code",
   "execution_count": 5,
   "id": "5c403878",
   "metadata": {},
   "outputs": [],
   "source": [
    "import os\n",
    "import librosa\n",
    "import numpy as np\n",
    "import pandas as pd\n",
    "from tqdm import tqdm\n",
    "\n",
    "# Root folders containing actor subfolders\n",
    "root_dirs = [\"input\", \"audio_speech_actors_01-24\"]\n",
    "\n",
    "# Emotion label mapping\n",
    "emotion_map = {\n",
    "    \"01\": \"neutral\",\n",
    "    \"02\": \"calm\",\n",
    "    \"03\": \"happy\",\n",
    "    \"04\": \"sad\",\n",
    "    \"05\": \"angry\",\n",
    "    \"06\": \"fearful\",\n",
    "    \"07\": \"disgust\",\n",
    "    \"08\": \"surprised\"\n",
    "}\n",
    "\n",
    "metadata = []\n",
    "\n",
    "# Step 1: Parse file metadata\n",
    "for root in root_dirs:\n",
    "    for subdir, _, files in os.walk(root):\n",
    "        for file in files:\n",
    "            if file.endswith(\".wav\"):\n",
    "                parts = file.split(\"-\")\n",
    "                if len(parts) != 7:\n",
    "                    continue  # skip malformed filenames\n",
    "                emotion_id = parts[2]\n",
    "                actor_id = int(parts[6].split(\".\")[0])\n",
    "                gender = \"female\" if actor_id % 2 == 0 else \"male\"\n",
    "\n",
    "                metadata.append({\n",
    "                    \"filename\": file,\n",
    "                    \"filepath\": os.path.join(subdir, file),\n",
    "                    \"emotion\": emotion_map.get(emotion_id, \"unknown\"),\n",
    "                    \"gender\": gender,\n",
    "                    \"actor_id\": actor_id\n",
    "                })\n",
    "\n",
    "df = pd.DataFrame(metadata)"
   ]
  },
  {
   "cell_type": "code",
   "execution_count": 6,
   "id": "1eb1e5b9",
   "metadata": {},
   "outputs": [],
   "source": [
    "# Step 2: Extract MFCCs from each file\n",
    "def extract_mfcc(filepath, n_mfcc=40, max_pad_len=174):\n",
    "    try:\n",
    "        audio, sr = librosa.load(filepath, sr=None)\n",
    "        mfcc = librosa.feature.mfcc(y=audio, sr=sr, n_mfcc=n_mfcc)\n",
    "        # Padding/truncating to a fixed length\n",
    "        if mfcc.shape[1] < max_pad_len:\n",
    "            pad_width = max_pad_len - mfcc.shape[1]\n",
    "            mfcc = np.pad(mfcc, pad_width=((0, 0), (0, pad_width)), mode='constant')\n",
    "        else:\n",
    "            mfcc = mfcc[:, :max_pad_len]\n",
    "        return mfcc\n",
    "    except Exception as e:\n",
    "        print(f\"Error processing {filepath}: {e}\")\n",
    "        return None"
   ]
  },
  {
   "cell_type": "code",
   "execution_count": 7,
   "id": "076057ab",
   "metadata": {},
   "outputs": [
    {
     "name": "stdout",
     "output_type": "stream",
     "text": [
      "Extracting MFCC features...\n"
     ]
    },
    {
     "name": "stderr",
     "output_type": "stream",
     "text": [
      "100%|██████████| 2880/2880 [00:58<00:00, 49.26it/s] \n"
     ]
    },
    {
     "name": "stdout",
     "output_type": "stream",
     "text": [
      "✅ MFCC features and labels saved as 'X_mfcc.npy' and 'y_labels.npy'\n"
     ]
    }
   ],
   "source": [
    "# Prepare data\n",
    "X = []\n",
    "y = []\n",
    "\n",
    "print(\"Extracting MFCC features...\")\n",
    "for _, row in tqdm(df.iterrows(), total=len(df)):\n",
    "    mfcc = extract_mfcc(row['filepath'])\n",
    "    if mfcc is not None:\n",
    "        X.append(mfcc)\n",
    "        y.append(row['emotion'])\n",
    "\n",
    "X = np.array(X)\n",
    "y = np.array(y)\n",
    "\n",
    "# Save data\n",
    "np.save(\"X_mfcc.npy\", X)\n",
    "np.save(\"y_labels.npy\", y)\n",
    "print(\"✅ MFCC features and labels saved as 'X_mfcc.npy' and 'y_labels.npy'\")"
   ]
  }
 ],
 "metadata": {
  "kernelspec": {
   "display_name": ".venv",
   "language": "python",
   "name": "python3"
  },
  "language_info": {
   "codemirror_mode": {
    "name": "ipython",
    "version": 3
   },
   "file_extension": ".py",
   "mimetype": "text/x-python",
   "name": "python",
   "nbconvert_exporter": "python",
   "pygments_lexer": "ipython3",
   "version": "3.10.11"
  }
 },
 "nbformat": 4,
 "nbformat_minor": 5
}
